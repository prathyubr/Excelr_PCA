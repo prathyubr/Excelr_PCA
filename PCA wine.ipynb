{
 "cells": [
  {
   "cell_type": "code",
   "execution_count": 10,
   "id": "8dea7bb9",
   "metadata": {
    "ExecuteTime": {
     "end_time": "2021-11-24T10:35:32.065480Z",
     "start_time": "2021-11-24T10:35:31.525277Z"
    }
   },
   "outputs": [],
   "source": [
    "import numpy as np\n",
    "import pandas as pd\n",
    "from matplotlib import pyplot as plt\n",
    "from sklearn.cluster import KMeans\n",
    "from sklearn.preprocessing import StandardScaler\n",
    "from sklearn import preprocessing\n",
    "import seaborn as sns\n",
    "from sklearn.decomposition import PCA\n",
    "import scipy.cluster.hierarchy as sch\n",
    "from sklearn.cluster import AgglomerativeClustering\n",
    "from scipy.cluster.hierarchy import linkage"
   ]
  },
  {
   "cell_type": "code",
   "execution_count": 14,
   "id": "12cceb48",
   "metadata": {
    "ExecuteTime": {
     "end_time": "2021-11-24T10:37:45.084131Z",
     "start_time": "2021-11-24T10:37:45.052097Z"
    }
   },
   "outputs": [],
   "source": [
    "wine = pd.read_csv(\"Wine.csv\")\n"
   ]
  },
  {
   "cell_type": "code",
   "execution_count": 15,
   "id": "3ef34cd9",
   "metadata": {
    "ExecuteTime": {
     "end_time": "2021-11-24T10:37:47.025412Z",
     "start_time": "2021-11-24T10:37:47.009417Z"
    }
   },
   "outputs": [],
   "source": [
    "wine1 = df.iloc[:, 1:]"
   ]
  },
  {
   "cell_type": "code",
   "execution_count": 16,
   "id": "04431465",
   "metadata": {
    "ExecuteTime": {
     "end_time": "2021-11-24T10:37:48.881337Z",
     "start_time": "2021-11-24T10:37:48.833345Z"
    }
   },
   "outputs": [
    {
     "data": {
      "text/html": [
       "<div>\n",
       "<style scoped>\n",
       "    .dataframe tbody tr th:only-of-type {\n",
       "        vertical-align: middle;\n",
       "    }\n",
       "\n",
       "    .dataframe tbody tr th {\n",
       "        vertical-align: top;\n",
       "    }\n",
       "\n",
       "    .dataframe thead th {\n",
       "        text-align: right;\n",
       "    }\n",
       "</style>\n",
       "<table border=\"1\" class=\"dataframe\">\n",
       "  <thead>\n",
       "    <tr style=\"text-align: right;\">\n",
       "      <th></th>\n",
       "      <th>Malic_Acid</th>\n",
       "      <th>Ash</th>\n",
       "      <th>Ash_Alcanity</th>\n",
       "      <th>Magnesium</th>\n",
       "      <th>Total_Phenols</th>\n",
       "      <th>Flavanoids</th>\n",
       "      <th>Nonflavanoid_Phenols</th>\n",
       "      <th>Proanthocyanins</th>\n",
       "      <th>Color_Intensity</th>\n",
       "      <th>Hue</th>\n",
       "      <th>OD280</th>\n",
       "      <th>Proline</th>\n",
       "      <th>Customer_Segment</th>\n",
       "    </tr>\n",
       "  </thead>\n",
       "  <tbody>\n",
       "    <tr>\n",
       "      <th>0</th>\n",
       "      <td>1.71</td>\n",
       "      <td>2.43</td>\n",
       "      <td>15.6</td>\n",
       "      <td>127</td>\n",
       "      <td>2.80</td>\n",
       "      <td>3.06</td>\n",
       "      <td>0.28</td>\n",
       "      <td>2.29</td>\n",
       "      <td>5.64</td>\n",
       "      <td>1.04</td>\n",
       "      <td>3.92</td>\n",
       "      <td>1065</td>\n",
       "      <td>1</td>\n",
       "    </tr>\n",
       "    <tr>\n",
       "      <th>1</th>\n",
       "      <td>1.78</td>\n",
       "      <td>2.14</td>\n",
       "      <td>11.2</td>\n",
       "      <td>100</td>\n",
       "      <td>2.65</td>\n",
       "      <td>2.76</td>\n",
       "      <td>0.26</td>\n",
       "      <td>1.28</td>\n",
       "      <td>4.38</td>\n",
       "      <td>1.05</td>\n",
       "      <td>3.40</td>\n",
       "      <td>1050</td>\n",
       "      <td>1</td>\n",
       "    </tr>\n",
       "    <tr>\n",
       "      <th>2</th>\n",
       "      <td>2.36</td>\n",
       "      <td>2.67</td>\n",
       "      <td>18.6</td>\n",
       "      <td>101</td>\n",
       "      <td>2.80</td>\n",
       "      <td>3.24</td>\n",
       "      <td>0.30</td>\n",
       "      <td>2.81</td>\n",
       "      <td>5.68</td>\n",
       "      <td>1.03</td>\n",
       "      <td>3.17</td>\n",
       "      <td>1185</td>\n",
       "      <td>1</td>\n",
       "    </tr>\n",
       "    <tr>\n",
       "      <th>3</th>\n",
       "      <td>1.95</td>\n",
       "      <td>2.50</td>\n",
       "      <td>16.8</td>\n",
       "      <td>113</td>\n",
       "      <td>3.85</td>\n",
       "      <td>3.49</td>\n",
       "      <td>0.24</td>\n",
       "      <td>2.18</td>\n",
       "      <td>7.80</td>\n",
       "      <td>0.86</td>\n",
       "      <td>3.45</td>\n",
       "      <td>1480</td>\n",
       "      <td>1</td>\n",
       "    </tr>\n",
       "    <tr>\n",
       "      <th>4</th>\n",
       "      <td>2.59</td>\n",
       "      <td>2.87</td>\n",
       "      <td>21.0</td>\n",
       "      <td>118</td>\n",
       "      <td>2.80</td>\n",
       "      <td>2.69</td>\n",
       "      <td>0.39</td>\n",
       "      <td>1.82</td>\n",
       "      <td>4.32</td>\n",
       "      <td>1.04</td>\n",
       "      <td>2.93</td>\n",
       "      <td>735</td>\n",
       "      <td>1</td>\n",
       "    </tr>\n",
       "  </tbody>\n",
       "</table>\n",
       "</div>"
      ],
      "text/plain": [
       "   Malic_Acid   Ash  Ash_Alcanity  Magnesium  Total_Phenols  Flavanoids  \\\n",
       "0        1.71  2.43          15.6        127           2.80        3.06   \n",
       "1        1.78  2.14          11.2        100           2.65        2.76   \n",
       "2        2.36  2.67          18.6        101           2.80        3.24   \n",
       "3        1.95  2.50          16.8        113           3.85        3.49   \n",
       "4        2.59  2.87          21.0        118           2.80        2.69   \n",
       "\n",
       "   Nonflavanoid_Phenols  Proanthocyanins  Color_Intensity   Hue  OD280  \\\n",
       "0                  0.28             2.29             5.64  1.04   3.92   \n",
       "1                  0.26             1.28             4.38  1.05   3.40   \n",
       "2                  0.30             2.81             5.68  1.03   3.17   \n",
       "3                  0.24             2.18             7.80  0.86   3.45   \n",
       "4                  0.39             1.82             4.32  1.04   2.93   \n",
       "\n",
       "   Proline  Customer_Segment  \n",
       "0     1065                 1  \n",
       "1     1050                 1  \n",
       "2     1185                 1  \n",
       "3     1480                 1  \n",
       "4      735                 1  "
      ]
     },
     "execution_count": 16,
     "metadata": {},
     "output_type": "execute_result"
    }
   ],
   "source": [
    "wine1.head()"
   ]
  },
  {
   "cell_type": "code",
   "execution_count": 17,
   "id": "85f26ad4",
   "metadata": {
    "ExecuteTime": {
     "end_time": "2021-11-24T10:38:09.915754Z",
     "start_time": "2021-11-24T10:38:09.811440Z"
    }
   },
   "outputs": [
    {
     "data": {
      "text/html": [
       "<div>\n",
       "<style scoped>\n",
       "    .dataframe tbody tr th:only-of-type {\n",
       "        vertical-align: middle;\n",
       "    }\n",
       "\n",
       "    .dataframe tbody tr th {\n",
       "        vertical-align: top;\n",
       "    }\n",
       "\n",
       "    .dataframe thead th {\n",
       "        text-align: right;\n",
       "    }\n",
       "</style>\n",
       "<table border=\"1\" class=\"dataframe\">\n",
       "  <thead>\n",
       "    <tr style=\"text-align: right;\">\n",
       "      <th></th>\n",
       "      <th>Malic_Acid</th>\n",
       "      <th>Ash</th>\n",
       "      <th>Ash_Alcanity</th>\n",
       "      <th>Magnesium</th>\n",
       "      <th>Total_Phenols</th>\n",
       "      <th>Flavanoids</th>\n",
       "      <th>Nonflavanoid_Phenols</th>\n",
       "      <th>Proanthocyanins</th>\n",
       "      <th>Color_Intensity</th>\n",
       "      <th>Hue</th>\n",
       "      <th>OD280</th>\n",
       "      <th>Proline</th>\n",
       "      <th>Customer_Segment</th>\n",
       "    </tr>\n",
       "  </thead>\n",
       "  <tbody>\n",
       "    <tr>\n",
       "      <th>count</th>\n",
       "      <td>178.000000</td>\n",
       "      <td>178.000000</td>\n",
       "      <td>178.000000</td>\n",
       "      <td>178.000000</td>\n",
       "      <td>178.000000</td>\n",
       "      <td>178.000000</td>\n",
       "      <td>178.000000</td>\n",
       "      <td>178.000000</td>\n",
       "      <td>178.000000</td>\n",
       "      <td>178.000000</td>\n",
       "      <td>178.000000</td>\n",
       "      <td>178.000000</td>\n",
       "      <td>178.000000</td>\n",
       "    </tr>\n",
       "    <tr>\n",
       "      <th>mean</th>\n",
       "      <td>2.336348</td>\n",
       "      <td>2.366517</td>\n",
       "      <td>19.494944</td>\n",
       "      <td>99.741573</td>\n",
       "      <td>2.295112</td>\n",
       "      <td>2.029270</td>\n",
       "      <td>0.361854</td>\n",
       "      <td>1.590899</td>\n",
       "      <td>5.058090</td>\n",
       "      <td>0.957449</td>\n",
       "      <td>2.611685</td>\n",
       "      <td>746.893258</td>\n",
       "      <td>1.938202</td>\n",
       "    </tr>\n",
       "    <tr>\n",
       "      <th>std</th>\n",
       "      <td>1.117146</td>\n",
       "      <td>0.274344</td>\n",
       "      <td>3.339564</td>\n",
       "      <td>14.282484</td>\n",
       "      <td>0.625851</td>\n",
       "      <td>0.998859</td>\n",
       "      <td>0.124453</td>\n",
       "      <td>0.572359</td>\n",
       "      <td>2.318286</td>\n",
       "      <td>0.228572</td>\n",
       "      <td>0.709990</td>\n",
       "      <td>314.907474</td>\n",
       "      <td>0.775035</td>\n",
       "    </tr>\n",
       "    <tr>\n",
       "      <th>min</th>\n",
       "      <td>0.740000</td>\n",
       "      <td>1.360000</td>\n",
       "      <td>10.600000</td>\n",
       "      <td>70.000000</td>\n",
       "      <td>0.980000</td>\n",
       "      <td>0.340000</td>\n",
       "      <td>0.130000</td>\n",
       "      <td>0.410000</td>\n",
       "      <td>1.280000</td>\n",
       "      <td>0.480000</td>\n",
       "      <td>1.270000</td>\n",
       "      <td>278.000000</td>\n",
       "      <td>1.000000</td>\n",
       "    </tr>\n",
       "    <tr>\n",
       "      <th>25%</th>\n",
       "      <td>1.602500</td>\n",
       "      <td>2.210000</td>\n",
       "      <td>17.200000</td>\n",
       "      <td>88.000000</td>\n",
       "      <td>1.742500</td>\n",
       "      <td>1.205000</td>\n",
       "      <td>0.270000</td>\n",
       "      <td>1.250000</td>\n",
       "      <td>3.220000</td>\n",
       "      <td>0.782500</td>\n",
       "      <td>1.937500</td>\n",
       "      <td>500.500000</td>\n",
       "      <td>1.000000</td>\n",
       "    </tr>\n",
       "    <tr>\n",
       "      <th>50%</th>\n",
       "      <td>1.865000</td>\n",
       "      <td>2.360000</td>\n",
       "      <td>19.500000</td>\n",
       "      <td>98.000000</td>\n",
       "      <td>2.355000</td>\n",
       "      <td>2.135000</td>\n",
       "      <td>0.340000</td>\n",
       "      <td>1.555000</td>\n",
       "      <td>4.690000</td>\n",
       "      <td>0.965000</td>\n",
       "      <td>2.780000</td>\n",
       "      <td>673.500000</td>\n",
       "      <td>2.000000</td>\n",
       "    </tr>\n",
       "    <tr>\n",
       "      <th>75%</th>\n",
       "      <td>3.082500</td>\n",
       "      <td>2.557500</td>\n",
       "      <td>21.500000</td>\n",
       "      <td>107.000000</td>\n",
       "      <td>2.800000</td>\n",
       "      <td>2.875000</td>\n",
       "      <td>0.437500</td>\n",
       "      <td>1.950000</td>\n",
       "      <td>6.200000</td>\n",
       "      <td>1.120000</td>\n",
       "      <td>3.170000</td>\n",
       "      <td>985.000000</td>\n",
       "      <td>3.000000</td>\n",
       "    </tr>\n",
       "    <tr>\n",
       "      <th>max</th>\n",
       "      <td>5.800000</td>\n",
       "      <td>3.230000</td>\n",
       "      <td>30.000000</td>\n",
       "      <td>162.000000</td>\n",
       "      <td>3.880000</td>\n",
       "      <td>5.080000</td>\n",
       "      <td>0.660000</td>\n",
       "      <td>3.580000</td>\n",
       "      <td>13.000000</td>\n",
       "      <td>1.710000</td>\n",
       "      <td>4.000000</td>\n",
       "      <td>1680.000000</td>\n",
       "      <td>3.000000</td>\n",
       "    </tr>\n",
       "  </tbody>\n",
       "</table>\n",
       "</div>"
      ],
      "text/plain": [
       "       Malic_Acid         Ash  Ash_Alcanity   Magnesium  Total_Phenols  \\\n",
       "count  178.000000  178.000000    178.000000  178.000000     178.000000   \n",
       "mean     2.336348    2.366517     19.494944   99.741573       2.295112   \n",
       "std      1.117146    0.274344      3.339564   14.282484       0.625851   \n",
       "min      0.740000    1.360000     10.600000   70.000000       0.980000   \n",
       "25%      1.602500    2.210000     17.200000   88.000000       1.742500   \n",
       "50%      1.865000    2.360000     19.500000   98.000000       2.355000   \n",
       "75%      3.082500    2.557500     21.500000  107.000000       2.800000   \n",
       "max      5.800000    3.230000     30.000000  162.000000       3.880000   \n",
       "\n",
       "       Flavanoids  Nonflavanoid_Phenols  Proanthocyanins  Color_Intensity  \\\n",
       "count  178.000000            178.000000       178.000000       178.000000   \n",
       "mean     2.029270              0.361854         1.590899         5.058090   \n",
       "std      0.998859              0.124453         0.572359         2.318286   \n",
       "min      0.340000              0.130000         0.410000         1.280000   \n",
       "25%      1.205000              0.270000         1.250000         3.220000   \n",
       "50%      2.135000              0.340000         1.555000         4.690000   \n",
       "75%      2.875000              0.437500         1.950000         6.200000   \n",
       "max      5.080000              0.660000         3.580000        13.000000   \n",
       "\n",
       "              Hue       OD280      Proline  Customer_Segment  \n",
       "count  178.000000  178.000000   178.000000        178.000000  \n",
       "mean     0.957449    2.611685   746.893258          1.938202  \n",
       "std      0.228572    0.709990   314.907474          0.775035  \n",
       "min      0.480000    1.270000   278.000000          1.000000  \n",
       "25%      0.782500    1.937500   500.500000          1.000000  \n",
       "50%      0.965000    2.780000   673.500000          2.000000  \n",
       "75%      1.120000    3.170000   985.000000          3.000000  \n",
       "max      1.710000    4.000000  1680.000000          3.000000  "
      ]
     },
     "execution_count": 17,
     "metadata": {},
     "output_type": "execute_result"
    }
   ],
   "source": [
    "wine1.describe()"
   ]
  },
  {
   "cell_type": "code",
   "execution_count": 18,
   "id": "115cf922",
   "metadata": {
    "ExecuteTime": {
     "end_time": "2021-11-24T10:39:58.847032Z",
     "start_time": "2021-11-24T10:39:58.831035Z"
    }
   },
   "outputs": [],
   "source": [
    "cor = wine1.corr()"
   ]
  },
  {
   "cell_type": "code",
   "execution_count": 19,
   "id": "98c49a9a",
   "metadata": {
    "ExecuteTime": {
     "end_time": "2021-11-24T10:40:14.742762Z",
     "start_time": "2021-11-24T10:40:14.556984Z"
    }
   },
   "outputs": [
    {
     "data": {
      "text/html": [
       "<style  type=\"text/css\" >\n",
       "#T_4fbdc_row0_col0,#T_4fbdc_row1_col1,#T_4fbdc_row2_col2,#T_4fbdc_row3_col3,#T_4fbdc_row4_col4,#T_4fbdc_row5_col5,#T_4fbdc_row6_col6,#T_4fbdc_row7_col7,#T_4fbdc_row8_col8,#T_4fbdc_row9_col9,#T_4fbdc_row10_col10,#T_4fbdc_row11_col11,#T_4fbdc_row12_col12{\n",
       "            background-color:  #b40426;\n",
       "            color:  #f1f1f1;\n",
       "        }#T_4fbdc_row0_col1,#T_4fbdc_row6_col9{\n",
       "            background-color:  #82a6fb;\n",
       "            color:  #000000;\n",
       "        }#T_4fbdc_row0_col2,#T_4fbdc_row0_col8{\n",
       "            background-color:  #dedcdb;\n",
       "            color:  #000000;\n",
       "        }#T_4fbdc_row0_col3{\n",
       "            background-color:  #6e90f2;\n",
       "            color:  #000000;\n",
       "        }#T_4fbdc_row0_col4{\n",
       "            background-color:  #84a7fc;\n",
       "            color:  #000000;\n",
       "        }#T_4fbdc_row0_col5,#T_4fbdc_row0_col10,#T_4fbdc_row11_col0{\n",
       "            background-color:  #88abfd;\n",
       "            color:  #000000;\n",
       "        }#T_4fbdc_row0_col6{\n",
       "            background-color:  #e7d7ce;\n",
       "            color:  #000000;\n",
       "        }#T_4fbdc_row0_col7{\n",
       "            background-color:  #7699f6;\n",
       "            color:  #000000;\n",
       "        }#T_4fbdc_row0_col9,#T_4fbdc_row10_col12{\n",
       "            background-color:  #445acc;\n",
       "            color:  #f1f1f1;\n",
       "        }#T_4fbdc_row0_col11{\n",
       "            background-color:  #94b6ff;\n",
       "            color:  #000000;\n",
       "        }#T_4fbdc_row0_col12{\n",
       "            background-color:  #f7ad90;\n",
       "            color:  #000000;\n",
       "        }#T_4fbdc_row1_col0{\n",
       "            background-color:  #d3dbe7;\n",
       "            color:  #000000;\n",
       "        }#T_4fbdc_row1_col2,#T_4fbdc_row11_col10{\n",
       "            background-color:  #f3c7b1;\n",
       "            color:  #000000;\n",
       "        }#T_4fbdc_row1_col3,#T_4fbdc_row1_col12{\n",
       "            background-color:  #cad8ef;\n",
       "            color:  #000000;\n",
       "        }#T_4fbdc_row1_col4{\n",
       "            background-color:  #dbdcde;\n",
       "            color:  #000000;\n",
       "        }#T_4fbdc_row1_col5{\n",
       "            background-color:  #e2dad5;\n",
       "            color:  #000000;\n",
       "        }#T_4fbdc_row1_col6{\n",
       "            background-color:  #d5dbe5;\n",
       "            color:  #000000;\n",
       "        }#T_4fbdc_row1_col7,#T_4fbdc_row3_col1{\n",
       "            background-color:  #abc8fd;\n",
       "            color:  #000000;\n",
       "        }#T_4fbdc_row1_col8{\n",
       "            background-color:  #e0dbd8;\n",
       "            color:  #000000;\n",
       "        }#T_4fbdc_row1_col9{\n",
       "            background-color:  #aac7fd;\n",
       "            color:  #000000;\n",
       "        }#T_4fbdc_row1_col10{\n",
       "            background-color:  #cdd9ec;\n",
       "            color:  #000000;\n",
       "        }#T_4fbdc_row1_col11{\n",
       "            background-color:  #e3d9d3;\n",
       "            color:  #000000;\n",
       "        }#T_4fbdc_row2_col0,#T_4fbdc_row3_col4{\n",
       "            background-color:  #e8d6cc;\n",
       "            color:  #000000;\n",
       "        }#T_4fbdc_row2_col1{\n",
       "            background-color:  #d8dce2;\n",
       "            color:  #000000;\n",
       "        }#T_4fbdc_row2_col3{\n",
       "            background-color:  #6687ed;\n",
       "            color:  #000000;\n",
       "        }#T_4fbdc_row2_col4{\n",
       "            background-color:  #86a9fc;\n",
       "            color:  #000000;\n",
       "        }#T_4fbdc_row2_col5{\n",
       "            background-color:  #93b5fe;\n",
       "            color:  #000000;\n",
       "        }#T_4fbdc_row2_col6{\n",
       "            background-color:  #efcebd;\n",
       "            color:  #000000;\n",
       "        }#T_4fbdc_row2_col7,#T_4fbdc_row8_col10{\n",
       "            background-color:  #7b9ff9;\n",
       "            color:  #000000;\n",
       "        }#T_4fbdc_row2_col8{\n",
       "            background-color:  #b1cbfc;\n",
       "            color:  #000000;\n",
       "        }#T_4fbdc_row2_col9{\n",
       "            background-color:  #80a3fa;\n",
       "            color:  #000000;\n",
       "        }#T_4fbdc_row2_col10{\n",
       "            background-color:  #9abbff;\n",
       "            color:  #000000;\n",
       "        }#T_4fbdc_row2_col11{\n",
       "            background-color:  #5f7fe8;\n",
       "            color:  #000000;\n",
       "        }#T_4fbdc_row2_col12,#T_4fbdc_row4_col7{\n",
       "            background-color:  #f59d7e;\n",
       "            color:  #000000;\n",
       "        }#T_4fbdc_row3_col0,#T_4fbdc_row7_col8{\n",
       "            background-color:  #a7c5fe;\n",
       "            color:  #000000;\n",
       "        }#T_4fbdc_row3_col2,#T_4fbdc_row9_col3{\n",
       "            background-color:  #8caffe;\n",
       "            color:  #000000;\n",
       "        }#T_4fbdc_row3_col5,#T_4fbdc_row7_col9{\n",
       "            background-color:  #ecd3c5;\n",
       "            color:  #000000;\n",
       "        }#T_4fbdc_row3_col6{\n",
       "            background-color:  #7597f6;\n",
       "            color:  #000000;\n",
       "        }#T_4fbdc_row3_col7{\n",
       "            background-color:  #dadce0;\n",
       "            color:  #000000;\n",
       "        }#T_4fbdc_row3_col8{\n",
       "            background-color:  #d6dce4;\n",
       "            color:  #000000;\n",
       "        }#T_4fbdc_row3_col9{\n",
       "            background-color:  #c5d6f2;\n",
       "            color:  #000000;\n",
       "        }#T_4fbdc_row3_col10{\n",
       "            background-color:  #d7dce3;\n",
       "            color:  #000000;\n",
       "        }#T_4fbdc_row3_col11{\n",
       "            background-color:  #f5c4ac;\n",
       "            color:  #000000;\n",
       "        }#T_4fbdc_row3_col12{\n",
       "            background-color:  #aec9fc;\n",
       "            color:  #000000;\n",
       "        }#T_4fbdc_row4_col0,#T_4fbdc_row11_col6{\n",
       "            background-color:  #688aef;\n",
       "            color:  #000000;\n",
       "        }#T_4fbdc_row4_col1,#T_4fbdc_row7_col12{\n",
       "            background-color:  #779af7;\n",
       "            color:  #000000;\n",
       "        }#T_4fbdc_row4_col2{\n",
       "            background-color:  #5470de;\n",
       "            color:  #000000;\n",
       "        }#T_4fbdc_row4_col3{\n",
       "            background-color:  #b7cff9;\n",
       "            color:  #000000;\n",
       "        }#T_4fbdc_row4_col5{\n",
       "            background-color:  #cd423b;\n",
       "            color:  #f1f1f1;\n",
       "        }#T_4fbdc_row4_col6{\n",
       "            background-color:  #4b64d5;\n",
       "            color:  #f1f1f1;\n",
       "        }#T_4fbdc_row4_col8{\n",
       "            background-color:  #a1c0ff;\n",
       "            color:  #000000;\n",
       "        }#T_4fbdc_row4_col9{\n",
       "            background-color:  #f6bda2;\n",
       "            color:  #000000;\n",
       "        }#T_4fbdc_row4_col10{\n",
       "            background-color:  #e7745b;\n",
       "            color:  #000000;\n",
       "        }#T_4fbdc_row4_col11{\n",
       "            background-color:  #f7af91;\n",
       "            color:  #000000;\n",
       "        }#T_4fbdc_row4_col12{\n",
       "            background-color:  #4f69d9;\n",
       "            color:  #000000;\n",
       "        }#T_4fbdc_row5_col0{\n",
       "            background-color:  #5875e1;\n",
       "            color:  #000000;\n",
       "        }#T_4fbdc_row5_col1,#T_4fbdc_row9_col6{\n",
       "            background-color:  #7396f5;\n",
       "            color:  #000000;\n",
       "        }#T_4fbdc_row5_col2,#T_4fbdc_row8_col9,#T_4fbdc_row10_col8{\n",
       "            background-color:  #4c66d6;\n",
       "            color:  #000000;\n",
       "        }#T_4fbdc_row5_col3,#T_4fbdc_row8_col3{\n",
       "            background-color:  #b3cdfb;\n",
       "            color:  #000000;\n",
       "        }#T_4fbdc_row5_col4{\n",
       "            background-color:  #d0473d;\n",
       "            color:  #f1f1f1;\n",
       "        }#T_4fbdc_row5_col6,#T_4fbdc_row5_col12,#T_4fbdc_row6_col3,#T_4fbdc_row9_col0,#T_4fbdc_row9_col1,#T_4fbdc_row9_col8,#T_4fbdc_row11_col2,#T_4fbdc_row12_col4,#T_4fbdc_row12_col5,#T_4fbdc_row12_col7,#T_4fbdc_row12_col9,#T_4fbdc_row12_col10,#T_4fbdc_row12_col11{\n",
       "            background-color:  #3b4cc0;\n",
       "            color:  #f1f1f1;\n",
       "        }#T_4fbdc_row5_col7{\n",
       "            background-color:  #f29274;\n",
       "            color:  #000000;\n",
       "        }#T_4fbdc_row5_col8{\n",
       "            background-color:  #85a8fc;\n",
       "            color:  #000000;\n",
       "        }#T_4fbdc_row5_col9{\n",
       "            background-color:  #f7a688;\n",
       "            color:  #000000;\n",
       "        }#T_4fbdc_row5_col10{\n",
       "            background-color:  #dc5d4a;\n",
       "            color:  #000000;\n",
       "        }#T_4fbdc_row5_col11{\n",
       "            background-color:  #f7b093;\n",
       "            color:  #000000;\n",
       "        }#T_4fbdc_row6_col0,#T_4fbdc_row11_col8{\n",
       "            background-color:  #e9d5cb;\n",
       "            color:  #000000;\n",
       "        }#T_4fbdc_row6_col1{\n",
       "            background-color:  #8badfd;\n",
       "            color:  #000000;\n",
       "        }#T_4fbdc_row6_col2{\n",
       "            background-color:  #ead4c8;\n",
       "            color:  #000000;\n",
       "        }#T_4fbdc_row6_col4,#T_4fbdc_row6_col10{\n",
       "            background-color:  #6c8ff1;\n",
       "            color:  #000000;\n",
       "        }#T_4fbdc_row6_col5{\n",
       "            background-color:  #6f92f3;\n",
       "            color:  #000000;\n",
       "        }#T_4fbdc_row6_col7{\n",
       "            background-color:  #5572df;\n",
       "            color:  #000000;\n",
       "        }#T_4fbdc_row6_col8{\n",
       "            background-color:  #cbd8ee;\n",
       "            color:  #000000;\n",
       "        }#T_4fbdc_row6_col11{\n",
       "            background-color:  #7a9df8;\n",
       "            color:  #000000;\n",
       "        }#T_4fbdc_row6_col12,#T_4fbdc_row11_col5{\n",
       "            background-color:  #f6a385;\n",
       "            color:  #000000;\n",
       "        }#T_4fbdc_row7_col0{\n",
       "            background-color:  #81a4fb;\n",
       "            color:  #000000;\n",
       "        }#T_4fbdc_row7_col1{\n",
       "            background-color:  #536edd;\n",
       "            color:  #000000;\n",
       "        }#T_4fbdc_row7_col2{\n",
       "            background-color:  #7093f3;\n",
       "            color:  #000000;\n",
       "        }#T_4fbdc_row7_col3{\n",
       "            background-color:  #bed2f6;\n",
       "            color:  #000000;\n",
       "        }#T_4fbdc_row7_col4{\n",
       "            background-color:  #f18f71;\n",
       "            color:  #000000;\n",
       "        }#T_4fbdc_row7_col5{\n",
       "            background-color:  #ec7f63;\n",
       "            color:  #000000;\n",
       "        }#T_4fbdc_row7_col6{\n",
       "            background-color:  #5d7ce6;\n",
       "            color:  #000000;\n",
       "        }#T_4fbdc_row7_col10,#T_4fbdc_row10_col9{\n",
       "            background-color:  #f5a081;\n",
       "            color:  #000000;\n",
       "        }#T_4fbdc_row7_col11{\n",
       "            background-color:  #f1cdba;\n",
       "            color:  #000000;\n",
       "        }#T_4fbdc_row8_col0,#T_4fbdc_row11_col3,#T_4fbdc_row12_col8{\n",
       "            background-color:  #e1dad6;\n",
       "            color:  #000000;\n",
       "        }#T_4fbdc_row8_col1{\n",
       "            background-color:  #a2c1ff;\n",
       "            color:  #000000;\n",
       "        }#T_4fbdc_row8_col2{\n",
       "            background-color:  #a5c3fe;\n",
       "            color:  #000000;\n",
       "        }#T_4fbdc_row8_col4{\n",
       "            background-color:  #bbd1f8;\n",
       "            color:  #000000;\n",
       "        }#T_4fbdc_row8_col5{\n",
       "            background-color:  #b5cdfa;\n",
       "            color:  #000000;\n",
       "        }#T_4fbdc_row8_col6{\n",
       "            background-color:  #ccd9ed;\n",
       "            color:  #000000;\n",
       "        }#T_4fbdc_row8_col7{\n",
       "            background-color:  #a3c2fe;\n",
       "            color:  #000000;\n",
       "        }#T_4fbdc_row8_col11,#T_4fbdc_row10_col11{\n",
       "            background-color:  #efcfbf;\n",
       "            color:  #000000;\n",
       "        }#T_4fbdc_row8_col12{\n",
       "            background-color:  #f2cab5;\n",
       "            color:  #000000;\n",
       "        }#T_4fbdc_row9_col2,#T_4fbdc_row10_col2,#T_4fbdc_row11_col12{\n",
       "            background-color:  #5e7de7;\n",
       "            color:  #000000;\n",
       "        }#T_4fbdc_row9_col4{\n",
       "            background-color:  #f7b79b;\n",
       "            color:  #000000;\n",
       "        }#T_4fbdc_row9_col5{\n",
       "            background-color:  #f4987a;\n",
       "            color:  #000000;\n",
       "        }#T_4fbdc_row9_col7,#T_4fbdc_row11_col9{\n",
       "            background-color:  #e4d9d2;\n",
       "            color:  #000000;\n",
       "        }#T_4fbdc_row9_col10{\n",
       "            background-color:  #f39778;\n",
       "            color:  #000000;\n",
       "        }#T_4fbdc_row9_col11{\n",
       "            background-color:  #e5d8d1;\n",
       "            color:  #000000;\n",
       "        }#T_4fbdc_row9_col12,#T_4fbdc_row10_col0{\n",
       "            background-color:  #6180e9;\n",
       "            color:  #000000;\n",
       "        }#T_4fbdc_row10_col1{\n",
       "            background-color:  #506bda;\n",
       "            color:  #000000;\n",
       "        }#T_4fbdc_row10_col3{\n",
       "            background-color:  #8fb1fe;\n",
       "            color:  #000000;\n",
       "        }#T_4fbdc_row10_col4{\n",
       "            background-color:  #e9785d;\n",
       "            color:  #000000;\n",
       "        }#T_4fbdc_row10_col5{\n",
       "            background-color:  #da5a49;\n",
       "            color:  #000000;\n",
       "        }#T_4fbdc_row10_col6,#T_4fbdc_row12_col1{\n",
       "            background-color:  #4055c8;\n",
       "            color:  #f1f1f1;\n",
       "        }#T_4fbdc_row10_col7{\n",
       "            background-color:  #f7b497;\n",
       "            color:  #000000;\n",
       "        }#T_4fbdc_row11_col1{\n",
       "            background-color:  #97b8ff;\n",
       "            color:  #000000;\n",
       "        }#T_4fbdc_row11_col4{\n",
       "            background-color:  #f7a98b;\n",
       "            color:  #000000;\n",
       "        }#T_4fbdc_row11_col7{\n",
       "            background-color:  #ead5c9;\n",
       "            color:  #000000;\n",
       "        }#T_4fbdc_row12_col0{\n",
       "            background-color:  #f5c0a7;\n",
       "            color:  #000000;\n",
       "        }#T_4fbdc_row12_col2,#T_4fbdc_row12_col6{\n",
       "            background-color:  #f7b89c;\n",
       "            color:  #000000;\n",
       "        }#T_4fbdc_row12_col3{\n",
       "            background-color:  #455cce;\n",
       "            color:  #f1f1f1;\n",
       "        }</style><table id=\"T_4fbdc_\" ><thead>    <tr>        <th class=\"blank level0\" ></th>        <th class=\"col_heading level0 col0\" >Malic_Acid</th>        <th class=\"col_heading level0 col1\" >Ash</th>        <th class=\"col_heading level0 col2\" >Ash_Alcanity</th>        <th class=\"col_heading level0 col3\" >Magnesium</th>        <th class=\"col_heading level0 col4\" >Total_Phenols</th>        <th class=\"col_heading level0 col5\" >Flavanoids</th>        <th class=\"col_heading level0 col6\" >Nonflavanoid_Phenols</th>        <th class=\"col_heading level0 col7\" >Proanthocyanins</th>        <th class=\"col_heading level0 col8\" >Color_Intensity</th>        <th class=\"col_heading level0 col9\" >Hue</th>        <th class=\"col_heading level0 col10\" >OD280</th>        <th class=\"col_heading level0 col11\" >Proline</th>        <th class=\"col_heading level0 col12\" >Customer_Segment</th>    </tr></thead><tbody>\n",
       "                <tr>\n",
       "                        <th id=\"T_4fbdc_level0_row0\" class=\"row_heading level0 row0\" >Malic_Acid</th>\n",
       "                        <td id=\"T_4fbdc_row0_col0\" class=\"data row0 col0\" >1.000000</td>\n",
       "                        <td id=\"T_4fbdc_row0_col1\" class=\"data row0 col1\" >0.164045</td>\n",
       "                        <td id=\"T_4fbdc_row0_col2\" class=\"data row0 col2\" >0.288500</td>\n",
       "                        <td id=\"T_4fbdc_row0_col3\" class=\"data row0 col3\" >-0.054575</td>\n",
       "                        <td id=\"T_4fbdc_row0_col4\" class=\"data row0 col4\" >-0.335167</td>\n",
       "                        <td id=\"T_4fbdc_row0_col5\" class=\"data row0 col5\" >-0.411007</td>\n",
       "                        <td id=\"T_4fbdc_row0_col6\" class=\"data row0 col6\" >0.292977</td>\n",
       "                        <td id=\"T_4fbdc_row0_col7\" class=\"data row0 col7\" >-0.220746</td>\n",
       "                        <td id=\"T_4fbdc_row0_col8\" class=\"data row0 col8\" >0.248985</td>\n",
       "                        <td id=\"T_4fbdc_row0_col9\" class=\"data row0 col9\" >-0.561296</td>\n",
       "                        <td id=\"T_4fbdc_row0_col10\" class=\"data row0 col10\" >-0.368710</td>\n",
       "                        <td id=\"T_4fbdc_row0_col11\" class=\"data row0 col11\" >-0.192011</td>\n",
       "                        <td id=\"T_4fbdc_row0_col12\" class=\"data row0 col12\" >0.437776</td>\n",
       "            </tr>\n",
       "            <tr>\n",
       "                        <th id=\"T_4fbdc_level0_row1\" class=\"row_heading level0 row1\" >Ash</th>\n",
       "                        <td id=\"T_4fbdc_row1_col0\" class=\"data row1 col0\" >0.164045</td>\n",
       "                        <td id=\"T_4fbdc_row1_col1\" class=\"data row1 col1\" >1.000000</td>\n",
       "                        <td id=\"T_4fbdc_row1_col2\" class=\"data row1 col2\" >0.443367</td>\n",
       "                        <td id=\"T_4fbdc_row1_col3\" class=\"data row1 col3\" >0.286587</td>\n",
       "                        <td id=\"T_4fbdc_row1_col4\" class=\"data row1 col4\" >0.128980</td>\n",
       "                        <td id=\"T_4fbdc_row1_col5\" class=\"data row1 col5\" >0.115077</td>\n",
       "                        <td id=\"T_4fbdc_row1_col6\" class=\"data row1 col6\" >0.186230</td>\n",
       "                        <td id=\"T_4fbdc_row1_col7\" class=\"data row1 col7\" >0.009652</td>\n",
       "                        <td id=\"T_4fbdc_row1_col8\" class=\"data row1 col8\" >0.258887</td>\n",
       "                        <td id=\"T_4fbdc_row1_col9\" class=\"data row1 col9\" >-0.074667</td>\n",
       "                        <td id=\"T_4fbdc_row1_col10\" class=\"data row1 col10\" >0.003911</td>\n",
       "                        <td id=\"T_4fbdc_row1_col11\" class=\"data row1 col11\" >0.223626</td>\n",
       "                        <td id=\"T_4fbdc_row1_col12\" class=\"data row1 col12\" >-0.049643</td>\n",
       "            </tr>\n",
       "            <tr>\n",
       "                        <th id=\"T_4fbdc_level0_row2\" class=\"row_heading level0 row2\" >Ash_Alcanity</th>\n",
       "                        <td id=\"T_4fbdc_row2_col0\" class=\"data row2 col0\" >0.288500</td>\n",
       "                        <td id=\"T_4fbdc_row2_col1\" class=\"data row2 col1\" >0.443367</td>\n",
       "                        <td id=\"T_4fbdc_row2_col2\" class=\"data row2 col2\" >1.000000</td>\n",
       "                        <td id=\"T_4fbdc_row2_col3\" class=\"data row2 col3\" >-0.083333</td>\n",
       "                        <td id=\"T_4fbdc_row2_col4\" class=\"data row2 col4\" >-0.321113</td>\n",
       "                        <td id=\"T_4fbdc_row2_col5\" class=\"data row2 col5\" >-0.351370</td>\n",
       "                        <td id=\"T_4fbdc_row2_col6\" class=\"data row2 col6\" >0.361922</td>\n",
       "                        <td id=\"T_4fbdc_row2_col7\" class=\"data row2 col7\" >-0.197327</td>\n",
       "                        <td id=\"T_4fbdc_row2_col8\" class=\"data row2 col8\" >0.018732</td>\n",
       "                        <td id=\"T_4fbdc_row2_col9\" class=\"data row2 col9\" >-0.273955</td>\n",
       "                        <td id=\"T_4fbdc_row2_col10\" class=\"data row2 col10\" >-0.276769</td>\n",
       "                        <td id=\"T_4fbdc_row2_col11\" class=\"data row2 col11\" >-0.440597</td>\n",
       "                        <td id=\"T_4fbdc_row2_col12\" class=\"data row2 col12\" >0.517859</td>\n",
       "            </tr>\n",
       "            <tr>\n",
       "                        <th id=\"T_4fbdc_level0_row3\" class=\"row_heading level0 row3\" >Magnesium</th>\n",
       "                        <td id=\"T_4fbdc_row3_col0\" class=\"data row3 col0\" >-0.054575</td>\n",
       "                        <td id=\"T_4fbdc_row3_col1\" class=\"data row3 col1\" >0.286587</td>\n",
       "                        <td id=\"T_4fbdc_row3_col2\" class=\"data row3 col2\" >-0.083333</td>\n",
       "                        <td id=\"T_4fbdc_row3_col3\" class=\"data row3 col3\" >1.000000</td>\n",
       "                        <td id=\"T_4fbdc_row3_col4\" class=\"data row3 col4\" >0.214401</td>\n",
       "                        <td id=\"T_4fbdc_row3_col5\" class=\"data row3 col5\" >0.195784</td>\n",
       "                        <td id=\"T_4fbdc_row3_col6\" class=\"data row3 col6\" >-0.256294</td>\n",
       "                        <td id=\"T_4fbdc_row3_col7\" class=\"data row3 col7\" >0.236441</td>\n",
       "                        <td id=\"T_4fbdc_row3_col8\" class=\"data row3 col8\" >0.199950</td>\n",
       "                        <td id=\"T_4fbdc_row3_col9\" class=\"data row3 col9\" >0.055398</td>\n",
       "                        <td id=\"T_4fbdc_row3_col10\" class=\"data row3 col10\" >0.066004</td>\n",
       "                        <td id=\"T_4fbdc_row3_col11\" class=\"data row3 col11\" >0.393351</td>\n",
       "                        <td id=\"T_4fbdc_row3_col12\" class=\"data row3 col12\" >-0.209179</td>\n",
       "            </tr>\n",
       "            <tr>\n",
       "                        <th id=\"T_4fbdc_level0_row4\" class=\"row_heading level0 row4\" >Total_Phenols</th>\n",
       "                        <td id=\"T_4fbdc_row4_col0\" class=\"data row4 col0\" >-0.335167</td>\n",
       "                        <td id=\"T_4fbdc_row4_col1\" class=\"data row4 col1\" >0.128980</td>\n",
       "                        <td id=\"T_4fbdc_row4_col2\" class=\"data row4 col2\" >-0.321113</td>\n",
       "                        <td id=\"T_4fbdc_row4_col3\" class=\"data row4 col3\" >0.214401</td>\n",
       "                        <td id=\"T_4fbdc_row4_col4\" class=\"data row4 col4\" >1.000000</td>\n",
       "                        <td id=\"T_4fbdc_row4_col5\" class=\"data row4 col5\" >0.864564</td>\n",
       "                        <td id=\"T_4fbdc_row4_col6\" class=\"data row4 col6\" >-0.449935</td>\n",
       "                        <td id=\"T_4fbdc_row4_col7\" class=\"data row4 col7\" >0.612413</td>\n",
       "                        <td id=\"T_4fbdc_row4_col8\" class=\"data row4 col8\" >-0.055136</td>\n",
       "                        <td id=\"T_4fbdc_row4_col9\" class=\"data row4 col9\" >0.433681</td>\n",
       "                        <td id=\"T_4fbdc_row4_col10\" class=\"data row4 col10\" >0.699949</td>\n",
       "                        <td id=\"T_4fbdc_row4_col11\" class=\"data row4 col11\" >0.498115</td>\n",
       "                        <td id=\"T_4fbdc_row4_col12\" class=\"data row4 col12\" >-0.719163</td>\n",
       "            </tr>\n",
       "            <tr>\n",
       "                        <th id=\"T_4fbdc_level0_row5\" class=\"row_heading level0 row5\" >Flavanoids</th>\n",
       "                        <td id=\"T_4fbdc_row5_col0\" class=\"data row5 col0\" >-0.411007</td>\n",
       "                        <td id=\"T_4fbdc_row5_col1\" class=\"data row5 col1\" >0.115077</td>\n",
       "                        <td id=\"T_4fbdc_row5_col2\" class=\"data row5 col2\" >-0.351370</td>\n",
       "                        <td id=\"T_4fbdc_row5_col3\" class=\"data row5 col3\" >0.195784</td>\n",
       "                        <td id=\"T_4fbdc_row5_col4\" class=\"data row5 col4\" >0.864564</td>\n",
       "                        <td id=\"T_4fbdc_row5_col5\" class=\"data row5 col5\" >1.000000</td>\n",
       "                        <td id=\"T_4fbdc_row5_col6\" class=\"data row5 col6\" >-0.537900</td>\n",
       "                        <td id=\"T_4fbdc_row5_col7\" class=\"data row5 col7\" >0.652692</td>\n",
       "                        <td id=\"T_4fbdc_row5_col8\" class=\"data row5 col8\" >-0.172379</td>\n",
       "                        <td id=\"T_4fbdc_row5_col9\" class=\"data row5 col9\" >0.543479</td>\n",
       "                        <td id=\"T_4fbdc_row5_col10\" class=\"data row5 col10\" >0.787194</td>\n",
       "                        <td id=\"T_4fbdc_row5_col11\" class=\"data row5 col11\" >0.494193</td>\n",
       "                        <td id=\"T_4fbdc_row5_col12\" class=\"data row5 col12\" >-0.847498</td>\n",
       "            </tr>\n",
       "            <tr>\n",
       "                        <th id=\"T_4fbdc_level0_row6\" class=\"row_heading level0 row6\" >Nonflavanoid_Phenols</th>\n",
       "                        <td id=\"T_4fbdc_row6_col0\" class=\"data row6 col0\" >0.292977</td>\n",
       "                        <td id=\"T_4fbdc_row6_col1\" class=\"data row6 col1\" >0.186230</td>\n",
       "                        <td id=\"T_4fbdc_row6_col2\" class=\"data row6 col2\" >0.361922</td>\n",
       "                        <td id=\"T_4fbdc_row6_col3\" class=\"data row6 col3\" >-0.256294</td>\n",
       "                        <td id=\"T_4fbdc_row6_col4\" class=\"data row6 col4\" >-0.449935</td>\n",
       "                        <td id=\"T_4fbdc_row6_col5\" class=\"data row6 col5\" >-0.537900</td>\n",
       "                        <td id=\"T_4fbdc_row6_col6\" class=\"data row6 col6\" >1.000000</td>\n",
       "                        <td id=\"T_4fbdc_row6_col7\" class=\"data row6 col7\" >-0.365845</td>\n",
       "                        <td id=\"T_4fbdc_row6_col8\" class=\"data row6 col8\" >0.139057</td>\n",
       "                        <td id=\"T_4fbdc_row6_col9\" class=\"data row6 col9\" >-0.262640</td>\n",
       "                        <td id=\"T_4fbdc_row6_col10\" class=\"data row6 col10\" >-0.503270</td>\n",
       "                        <td id=\"T_4fbdc_row6_col11\" class=\"data row6 col11\" >-0.311385</td>\n",
       "                        <td id=\"T_4fbdc_row6_col12\" class=\"data row6 col12\" >0.489109</td>\n",
       "            </tr>\n",
       "            <tr>\n",
       "                        <th id=\"T_4fbdc_level0_row7\" class=\"row_heading level0 row7\" >Proanthocyanins</th>\n",
       "                        <td id=\"T_4fbdc_row7_col0\" class=\"data row7 col0\" >-0.220746</td>\n",
       "                        <td id=\"T_4fbdc_row7_col1\" class=\"data row7 col1\" >0.009652</td>\n",
       "                        <td id=\"T_4fbdc_row7_col2\" class=\"data row7 col2\" >-0.197327</td>\n",
       "                        <td id=\"T_4fbdc_row7_col3\" class=\"data row7 col3\" >0.236441</td>\n",
       "                        <td id=\"T_4fbdc_row7_col4\" class=\"data row7 col4\" >0.612413</td>\n",
       "                        <td id=\"T_4fbdc_row7_col5\" class=\"data row7 col5\" >0.652692</td>\n",
       "                        <td id=\"T_4fbdc_row7_col6\" class=\"data row7 col6\" >-0.365845</td>\n",
       "                        <td id=\"T_4fbdc_row7_col7\" class=\"data row7 col7\" >1.000000</td>\n",
       "                        <td id=\"T_4fbdc_row7_col8\" class=\"data row7 col8\" >-0.025250</td>\n",
       "                        <td id=\"T_4fbdc_row7_col9\" class=\"data row7 col9\" >0.295544</td>\n",
       "                        <td id=\"T_4fbdc_row7_col10\" class=\"data row7 col10\" >0.519067</td>\n",
       "                        <td id=\"T_4fbdc_row7_col11\" class=\"data row7 col11\" >0.330417</td>\n",
       "                        <td id=\"T_4fbdc_row7_col12\" class=\"data row7 col12\" >-0.499130</td>\n",
       "            </tr>\n",
       "            <tr>\n",
       "                        <th id=\"T_4fbdc_level0_row8\" class=\"row_heading level0 row8\" >Color_Intensity</th>\n",
       "                        <td id=\"T_4fbdc_row8_col0\" class=\"data row8 col0\" >0.248985</td>\n",
       "                        <td id=\"T_4fbdc_row8_col1\" class=\"data row8 col1\" >0.258887</td>\n",
       "                        <td id=\"T_4fbdc_row8_col2\" class=\"data row8 col2\" >0.018732</td>\n",
       "                        <td id=\"T_4fbdc_row8_col3\" class=\"data row8 col3\" >0.199950</td>\n",
       "                        <td id=\"T_4fbdc_row8_col4\" class=\"data row8 col4\" >-0.055136</td>\n",
       "                        <td id=\"T_4fbdc_row8_col5\" class=\"data row8 col5\" >-0.172379</td>\n",
       "                        <td id=\"T_4fbdc_row8_col6\" class=\"data row8 col6\" >0.139057</td>\n",
       "                        <td id=\"T_4fbdc_row8_col7\" class=\"data row8 col7\" >-0.025250</td>\n",
       "                        <td id=\"T_4fbdc_row8_col8\" class=\"data row8 col8\" >1.000000</td>\n",
       "                        <td id=\"T_4fbdc_row8_col9\" class=\"data row8 col9\" >-0.521813</td>\n",
       "                        <td id=\"T_4fbdc_row8_col10\" class=\"data row8 col10\" >-0.428815</td>\n",
       "                        <td id=\"T_4fbdc_row8_col11\" class=\"data row8 col11\" >0.316100</td>\n",
       "                        <td id=\"T_4fbdc_row8_col12\" class=\"data row8 col12\" >0.265668</td>\n",
       "            </tr>\n",
       "            <tr>\n",
       "                        <th id=\"T_4fbdc_level0_row9\" class=\"row_heading level0 row9\" >Hue</th>\n",
       "                        <td id=\"T_4fbdc_row9_col0\" class=\"data row9 col0\" >-0.561296</td>\n",
       "                        <td id=\"T_4fbdc_row9_col1\" class=\"data row9 col1\" >-0.074667</td>\n",
       "                        <td id=\"T_4fbdc_row9_col2\" class=\"data row9 col2\" >-0.273955</td>\n",
       "                        <td id=\"T_4fbdc_row9_col3\" class=\"data row9 col3\" >0.055398</td>\n",
       "                        <td id=\"T_4fbdc_row9_col4\" class=\"data row9 col4\" >0.433681</td>\n",
       "                        <td id=\"T_4fbdc_row9_col5\" class=\"data row9 col5\" >0.543479</td>\n",
       "                        <td id=\"T_4fbdc_row9_col6\" class=\"data row9 col6\" >-0.262640</td>\n",
       "                        <td id=\"T_4fbdc_row9_col7\" class=\"data row9 col7\" >0.295544</td>\n",
       "                        <td id=\"T_4fbdc_row9_col8\" class=\"data row9 col8\" >-0.521813</td>\n",
       "                        <td id=\"T_4fbdc_row9_col9\" class=\"data row9 col9\" >1.000000</td>\n",
       "                        <td id=\"T_4fbdc_row9_col10\" class=\"data row9 col10\" >0.565468</td>\n",
       "                        <td id=\"T_4fbdc_row9_col11\" class=\"data row9 col11\" >0.236183</td>\n",
       "                        <td id=\"T_4fbdc_row9_col12\" class=\"data row9 col12\" >-0.617369</td>\n",
       "            </tr>\n",
       "            <tr>\n",
       "                        <th id=\"T_4fbdc_level0_row10\" class=\"row_heading level0 row10\" >OD280</th>\n",
       "                        <td id=\"T_4fbdc_row10_col0\" class=\"data row10 col0\" >-0.368710</td>\n",
       "                        <td id=\"T_4fbdc_row10_col1\" class=\"data row10 col1\" >0.003911</td>\n",
       "                        <td id=\"T_4fbdc_row10_col2\" class=\"data row10 col2\" >-0.276769</td>\n",
       "                        <td id=\"T_4fbdc_row10_col3\" class=\"data row10 col3\" >0.066004</td>\n",
       "                        <td id=\"T_4fbdc_row10_col4\" class=\"data row10 col4\" >0.699949</td>\n",
       "                        <td id=\"T_4fbdc_row10_col5\" class=\"data row10 col5\" >0.787194</td>\n",
       "                        <td id=\"T_4fbdc_row10_col6\" class=\"data row10 col6\" >-0.503270</td>\n",
       "                        <td id=\"T_4fbdc_row10_col7\" class=\"data row10 col7\" >0.519067</td>\n",
       "                        <td id=\"T_4fbdc_row10_col8\" class=\"data row10 col8\" >-0.428815</td>\n",
       "                        <td id=\"T_4fbdc_row10_col9\" class=\"data row10 col9\" >0.565468</td>\n",
       "                        <td id=\"T_4fbdc_row10_col10\" class=\"data row10 col10\" >1.000000</td>\n",
       "                        <td id=\"T_4fbdc_row10_col11\" class=\"data row10 col11\" >0.312761</td>\n",
       "                        <td id=\"T_4fbdc_row10_col12\" class=\"data row10 col12\" >-0.788230</td>\n",
       "            </tr>\n",
       "            <tr>\n",
       "                        <th id=\"T_4fbdc_level0_row11\" class=\"row_heading level0 row11\" >Proline</th>\n",
       "                        <td id=\"T_4fbdc_row11_col0\" class=\"data row11 col0\" >-0.192011</td>\n",
       "                        <td id=\"T_4fbdc_row11_col1\" class=\"data row11 col1\" >0.223626</td>\n",
       "                        <td id=\"T_4fbdc_row11_col2\" class=\"data row11 col2\" >-0.440597</td>\n",
       "                        <td id=\"T_4fbdc_row11_col3\" class=\"data row11 col3\" >0.393351</td>\n",
       "                        <td id=\"T_4fbdc_row11_col4\" class=\"data row11 col4\" >0.498115</td>\n",
       "                        <td id=\"T_4fbdc_row11_col5\" class=\"data row11 col5\" >0.494193</td>\n",
       "                        <td id=\"T_4fbdc_row11_col6\" class=\"data row11 col6\" >-0.311385</td>\n",
       "                        <td id=\"T_4fbdc_row11_col7\" class=\"data row11 col7\" >0.330417</td>\n",
       "                        <td id=\"T_4fbdc_row11_col8\" class=\"data row11 col8\" >0.316100</td>\n",
       "                        <td id=\"T_4fbdc_row11_col9\" class=\"data row11 col9\" >0.236183</td>\n",
       "                        <td id=\"T_4fbdc_row11_col10\" class=\"data row11 col10\" >0.312761</td>\n",
       "                        <td id=\"T_4fbdc_row11_col11\" class=\"data row11 col11\" >1.000000</td>\n",
       "                        <td id=\"T_4fbdc_row11_col12\" class=\"data row11 col12\" >-0.633717</td>\n",
       "            </tr>\n",
       "            <tr>\n",
       "                        <th id=\"T_4fbdc_level0_row12\" class=\"row_heading level0 row12\" >Customer_Segment</th>\n",
       "                        <td id=\"T_4fbdc_row12_col0\" class=\"data row12 col0\" >0.437776</td>\n",
       "                        <td id=\"T_4fbdc_row12_col1\" class=\"data row12 col1\" >-0.049643</td>\n",
       "                        <td id=\"T_4fbdc_row12_col2\" class=\"data row12 col2\" >0.517859</td>\n",
       "                        <td id=\"T_4fbdc_row12_col3\" class=\"data row12 col3\" >-0.209179</td>\n",
       "                        <td id=\"T_4fbdc_row12_col4\" class=\"data row12 col4\" >-0.719163</td>\n",
       "                        <td id=\"T_4fbdc_row12_col5\" class=\"data row12 col5\" >-0.847498</td>\n",
       "                        <td id=\"T_4fbdc_row12_col6\" class=\"data row12 col6\" >0.489109</td>\n",
       "                        <td id=\"T_4fbdc_row12_col7\" class=\"data row12 col7\" >-0.499130</td>\n",
       "                        <td id=\"T_4fbdc_row12_col8\" class=\"data row12 col8\" >0.265668</td>\n",
       "                        <td id=\"T_4fbdc_row12_col9\" class=\"data row12 col9\" >-0.617369</td>\n",
       "                        <td id=\"T_4fbdc_row12_col10\" class=\"data row12 col10\" >-0.788230</td>\n",
       "                        <td id=\"T_4fbdc_row12_col11\" class=\"data row12 col11\" >-0.633717</td>\n",
       "                        <td id=\"T_4fbdc_row12_col12\" class=\"data row12 col12\" >1.000000</td>\n",
       "            </tr>\n",
       "    </tbody></table>"
      ],
      "text/plain": [
       "<pandas.io.formats.style.Styler at 0x278e83bdd90>"
      ]
     },
     "execution_count": 19,
     "metadata": {},
     "output_type": "execute_result"
    }
   ],
   "source": [
    "cor.style.background_gradient(cmap='coolwarm')"
   ]
  },
  {
   "cell_type": "code",
   "execution_count": 28,
   "id": "e3e23672",
   "metadata": {
    "ExecuteTime": {
     "end_time": "2021-11-24T10:44:17.146287Z",
     "start_time": "2021-11-24T10:44:17.114288Z"
    }
   },
   "outputs": [],
   "source": [
    "wine_norm = StandardScaler().fit_transform(wine1) # normalizing the data"
   ]
  },
  {
   "cell_type": "code",
   "execution_count": 29,
   "id": "7a564e03",
   "metadata": {
    "ExecuteTime": {
     "end_time": "2021-11-24T10:44:19.263907Z",
     "start_time": "2021-11-24T10:44:19.255905Z"
    }
   },
   "outputs": [],
   "source": [
    "pca = PCA(n_components=13)"
   ]
  },
  {
   "cell_type": "code",
   "execution_count": 30,
   "id": "b4fd835b",
   "metadata": {
    "ExecuteTime": {
     "end_time": "2021-11-24T10:44:21.587021Z",
     "start_time": "2021-11-24T10:44:21.563027Z"
    }
   },
   "outputs": [],
   "source": [
    "principalComponents = pca.fit_transform(wine_norm)"
   ]
  },
  {
   "cell_type": "code",
   "execution_count": 32,
   "id": "0aca2687",
   "metadata": {
    "ExecuteTime": {
     "end_time": "2021-11-24T10:44:37.668849Z",
     "start_time": "2021-11-24T10:44:37.644849Z"
    }
   },
   "outputs": [
    {
     "data": {
      "text/plain": [
       "array([[-3.31049   , -1.20531167, -0.39262795, ...,  0.8608444 ,\n",
       "         0.29415073,  0.14225964],\n",
       "       [-2.512443  ,  0.667054  , -1.91942034, ...,  0.25907195,\n",
       "         0.19344183,  0.18067854],\n",
       "       [-2.74230813, -1.49811831,  0.55442822, ..., -0.14563125,\n",
       "         0.00445644, -0.00535404],\n",
       "       ...,\n",
       "       [ 3.19824118, -2.42855744, -1.66539705, ...,  0.49860938,\n",
       "        -0.09885035,  0.04649047],\n",
       "       [ 2.88823727, -2.09144243, -1.17577634, ...,  0.2514622 ,\n",
       "         0.14389536,  0.1395016 ],\n",
       "       [ 3.78593608, -2.1378555 ,  0.8851532 , ...,  0.08777553,\n",
       "         0.10516644, -0.35843494]])"
      ]
     },
     "execution_count": 32,
     "metadata": {},
     "output_type": "execute_result"
    }
   ],
   "source": [
    "pca = PCA(n_components = 13)\n",
    "pca_values = pca.fit_transform(wine_norm)\n",
    "pca_values "
   ]
  },
  {
   "cell_type": "code",
   "execution_count": 33,
   "id": "cd40ddca",
   "metadata": {
    "ExecuteTime": {
     "end_time": "2021-11-24T10:45:33.908884Z",
     "start_time": "2021-11-24T10:45:33.884885Z"
    }
   },
   "outputs": [
    {
     "data": {
      "text/plain": [
       "array([[ 0.23341804,  0.00710486,  0.22106807, -0.11649233, -0.35960357,\n",
       "        -0.39409075,  0.26969493, -0.28169901,  0.11288738, -0.28933235,\n",
       "        -0.35954123, -0.25428758,  0.39487114],\n",
       "       [-0.22645962, -0.45526141, -0.08547995, -0.40818004, -0.13707949,\n",
       "        -0.06657558, -0.01402671, -0.12896481, -0.53701108,  0.27460233,\n",
       "         0.12170971, -0.38563437,  0.01300346],\n",
       "       [ 0.04523628,  0.54414942,  0.62587035, -0.04475131,  0.10491812,\n",
       "         0.12981263,  0.21908263,  0.07712448, -0.30001515,  0.18401657,\n",
       "         0.21450841, -0.23749699, -0.00665771],\n",
       "       [ 0.49894597, -0.22351277,  0.08298156, -0.31275345,  0.20983946,\n",
       "         0.16191271, -0.24327222,  0.43111719,  0.05283615, -0.40938096,\n",
       "         0.19203625, -0.25574001,  0.0918546 ],\n",
       "       [-0.04656116, -0.1150528 ,  0.18583998,  0.69147392, -0.15366478,\n",
       "        -0.09936823, -0.52922855,  0.09424949, -0.22813761, -0.03132209,\n",
       "        -0.02647016, -0.25760499,  0.17140785],\n",
       "       [-0.64583384, -0.13661995,  0.19729239, -0.07254224,  0.11205168,\n",
       "         0.0430888 ,  0.13317927,  0.47846531,  0.35124802,  0.00269176,\n",
       "        -0.19985443, -0.18033974,  0.25124162],\n",
       "       [ 0.31847263, -0.20138867, -0.20452108,  0.35087191, -0.05104879,\n",
       "        -0.07840917,  0.59589287,  0.48089854, -0.2025351 ,  0.2217367 ,\n",
       "        -0.08466073, -0.01362383, -0.02077105],\n",
       "       [-0.15146295,  0.01069344, -0.27192772,  0.28865705,  0.45080817,\n",
       "         0.17006795,  0.31242992, -0.35354636, -0.01810135, -0.37694377,\n",
       "         0.14458896, -0.4488082 ,  0.01301643],\n",
       "       [ 0.30590322, -0.12259053,  0.04665639,  0.01081335,  0.43244326,\n",
       "         0.13155852, -0.13289353, -0.22707798,  0.26095421,  0.60906195,\n",
       "        -0.29611148, -0.16718246,  0.24672978],\n",
       "       [-0.00498219, -0.56809723,  0.54403558,  0.13971173,  0.19167471,\n",
       "        -0.07552824,  0.19535821, -0.22366744,  0.04191972, -0.08676694,\n",
       "         0.27311478,  0.38294084, -0.02428647],\n",
       "       [ 0.05767233, -0.02260081, -0.06056512,  0.08243117, -0.3796103 ,\n",
       "        -0.0577893 ,  0.05442507, -0.04125018,  0.53878561,  0.25386494,\n",
       "         0.62318333, -0.29839496, -0.03818995],\n",
       "       [-0.05144073,  0.18913489, -0.20816298, -0.0565762 ,  0.34346945,\n",
       "        -0.58800901, -0.0620373 ,  0.0975557 , -0.11369746,  0.06316001,\n",
       "         0.36288932,  0.19671972,  0.50065352],\n",
       "       [-0.00544719, -0.00322739, -0.10409907,  0.02316425, -0.26273569,\n",
       "         0.61504876,  0.08205326, -0.07295789, -0.12741005, -0.01618174,\n",
       "         0.14828818,  0.24897219,  0.65478576]])"
      ]
     },
     "execution_count": 33,
     "metadata": {},
     "output_type": "execute_result"
    }
   ],
   "source": [
    "pca.components_"
   ]
  },
  {
   "cell_type": "code",
   "execution_count": 34,
   "id": "c231ddb9",
   "metadata": {
    "ExecuteTime": {
     "end_time": "2021-11-24T10:45:56.894534Z",
     "start_time": "2021-11-24T10:45:56.870535Z"
    }
   },
   "outputs": [
    {
     "data": {
      "text/plain": [
       "array([0.41957898, 0.15585708, 0.10501915, 0.07113755, 0.06283068,\n",
       "       0.05061871, 0.04224382, 0.0252395 , 0.02093304, 0.01789693,\n",
       "       0.01398795, 0.0100125 , 0.0046441 ])"
      ]
     },
     "execution_count": 34,
     "metadata": {},
     "output_type": "execute_result"
    }
   ],
   "source": [
    "var = pca.explained_variance_ratio_\n",
    "var"
   ]
  },
  {
   "cell_type": "code",
   "execution_count": 35,
   "id": "23fb55e8",
   "metadata": {
    "ExecuteTime": {
     "end_time": "2021-11-24T10:46:51.200305Z",
     "start_time": "2021-11-24T10:46:51.184306Z"
    }
   },
   "outputs": [
    {
     "data": {
      "text/plain": [
       "array([41.96, 57.55, 68.05, 75.16, 81.44, 86.5 , 90.72, 93.24, 95.33,\n",
       "       97.12, 98.52, 99.52, 99.98])"
      ]
     },
     "execution_count": 35,
     "metadata": {},
     "output_type": "execute_result"
    }
   ],
   "source": [
    "var1 = np.cumsum(np.round(var,decimals = 4)*100)\n",
    "var1"
   ]
  },
  {
   "cell_type": "code",
   "execution_count": 36,
   "id": "2d571cf7",
   "metadata": {
    "ExecuteTime": {
     "end_time": "2021-11-24T10:47:08.518511Z",
     "start_time": "2021-11-24T10:47:08.135659Z"
    }
   },
   "outputs": [
    {
     "data": {
      "text/plain": [
       "[<matplotlib.lines.Line2D at 0x278e93125b0>]"
      ]
     },
     "execution_count": 36,
     "metadata": {},
     "output_type": "execute_result"
    },
    {
     "data": {
      "image/png": "[encoded data removed]",
      "text/plain": [
       "<Figure size 432x288 with 1 Axes>"
      ]
     },
     "metadata": {
      "needs_background": "light"
     },
     "output_type": "display_data"
    }
   ],
   "source": [
    "plt.plot(var1,color=\"red\")"
   ]
  },
  {
   "cell_type": "code",
   "execution_count": 37,
   "id": "4dbeee99",
   "metadata": {
    "ExecuteTime": {
     "end_time": "2021-11-24T10:47:22.979164Z",
     "start_time": "2021-11-24T10:47:22.939168Z"
    }
   },
   "outputs": [
    {
     "data": {
      "text/plain": [
       "array([[-3.31049   ],\n",
       "       [-2.512443  ],\n",
       "       [-2.74230813],\n",
       "       [-3.63540255],\n",
       "       [-1.35965797],\n",
       "       [-3.04328658],\n",
       "       [-2.50948277],\n",
       "       [-2.18821596],\n",
       "       [-2.49904275],\n",
       "       [-2.85954166],\n",
       "       [-3.48510184],\n",
       "       [-1.92501736],\n",
       "       [-2.30696624],\n",
       "       [-3.38730053],\n",
       "       [-4.17468098],\n",
       "       [-2.46381153],\n",
       "       [-2.21456272],\n",
       "       [-2.05792726],\n",
       "       [-3.48350644],\n",
       "       [-2.27334093],\n",
       "       [-3.17387819],\n",
       "       [-1.49447735],\n",
       "       [-2.74177292],\n",
       "       [-2.05905287],\n",
       "       [-2.0707949 ],\n",
       "       [-1.38527457],\n",
       "       [-2.05652713],\n",
       "       [-1.58743853],\n",
       "       [-2.37558101],\n",
       "       [-2.41160266],\n",
       "       [-2.6410305 ],\n",
       "       [-2.80545967],\n",
       "       [-1.9004233 ],\n",
       "       [-2.08972702],\n",
       "       [-1.69782833],\n",
       "       [-2.16632263],\n",
       "       [-1.71262801],\n",
       "       [-1.51701048],\n",
       "       [-1.89314482],\n",
       "       [-2.56663671],\n",
       "       [-2.74790194],\n",
       "       [-1.03699738],\n",
       "       [-3.14937651],\n",
       "       [-0.86013374],\n",
       "       [-2.40411264],\n",
       "       [-1.29817652],\n",
       "       [-2.75699713],\n",
       "       [-2.91523756],\n",
       "       [-2.12340132],\n",
       "       [-2.76483952],\n",
       "       [-3.40591954],\n",
       "       [-2.98201891],\n",
       "       [-3.53395552],\n",
       "       [-2.36505037],\n",
       "       [-2.30744487],\n",
       "       [-2.61111669],\n",
       "       [-2.76797762],\n",
       "       [-2.40978978],\n",
       "       [-3.19605007],\n",
       "       [ 0.69389961],\n",
       "       [ 1.28010886],\n",
       "       [ 1.64955036],\n",
       "       [ 0.04539825],\n",
       "       [-2.01375772],\n",
       "       [ 0.37772237],\n",
       "       [-0.92251243],\n",
       "       [-2.08041586],\n",
       "       [-0.32300126],\n",
       "       [ 0.80133632],\n",
       "       [-1.92730149],\n",
       "       [ 1.34861041],\n",
       "       [-1.42821802],\n",
       "       [ 0.72528744],\n",
       "       [-2.33233873],\n",
       "       [-1.85106185],\n",
       "       [ 0.55173044],\n",
       "       [-0.37098938],\n",
       "       [ 1.14661249],\n",
       "       [-1.2342237 ],\n",
       "       [-0.41722787],\n",
       "       [-0.95316747],\n",
       "       [-1.02515315],\n",
       "       [ 0.2369023 ],\n",
       "       [ 2.36991416],\n",
       "       [-0.95743822],\n",
       "       [-0.83183509],\n",
       "       [ 0.55368116],\n",
       "       [ 0.23000989],\n",
       "       [ 0.77297842],\n",
       "       [ 0.28377726],\n",
       "       [ 1.04516889],\n",
       "       [ 1.24697562],\n",
       "       [ 1.69639193],\n",
       "       [-0.85462938],\n",
       "       [-1.13209055],\n",
       "       [-2.36421424],\n",
       "       [ 0.35552428],\n",
       "       [-1.11994139],\n",
       "       [-2.18141535],\n",
       "       [-1.46767022],\n",
       "       [-0.92435358],\n",
       "       [ 0.39236634],\n",
       "       [ 0.02810932],\n",
       "       [ 0.37223309],\n",
       "       [-0.49063503],\n",
       "       [ 1.49013032],\n",
       "       [ 0.16989108],\n",
       "       [ 1.42544324],\n",
       "       [-0.23678535],\n",
       "       [-1.69051783],\n",
       "       [-1.51490246],\n",
       "       [ 0.14140467],\n",
       "       [ 0.98571956],\n",
       "       [ 0.12746643],\n",
       "       [ 0.25802557],\n",
       "       [-0.87152784],\n",
       "       [-0.01677178],\n",
       "       [-0.03218805],\n",
       "       [ 2.19447064],\n",
       "       [ 0.30244736],\n",
       "       [-0.93303174],\n",
       "       [-1.42387103],\n",
       "       [ 0.9837268 ],\n",
       "       [ 0.44041839],\n",
       "       [-1.08378043],\n",
       "       [-0.10385169],\n",
       "       [-0.13213588],\n",
       "       [ 1.26076439],\n",
       "       [ 0.30183532],\n",
       "       [ 1.48815631],\n",
       "       [ 1.77499341],\n",
       "       [ 2.75688348],\n",
       "       [ 3.25445026],\n",
       "       [ 2.51579879],\n",
       "       [ 2.64754107],\n",
       "       [ 3.33411522],\n",
       "       [ 4.041679  ],\n",
       "       [ 4.11966562],\n",
       "       [ 3.47958701],\n",
       "       [ 2.7106322 ],\n",
       "       [ 3.08925544],\n",
       "       [ 2.71658781],\n",
       "       [ 3.37003187],\n",
       "       [ 2.83253785],\n",
       "       [ 2.55055041],\n",
       "       [ 3.01981524],\n",
       "       [ 4.65012612],\n",
       "       [ 3.88863892],\n",
       "       [ 3.26444991],\n",
       "       [ 3.34678043],\n",
       "       [ 2.88500942],\n",
       "       [ 2.99673652],\n",
       "       [ 2.32414985],\n",
       "       [ 3.24057536],\n",
       "       [ 3.05489502],\n",
       "       [ 3.97853935],\n",
       "       [ 3.43093783],\n",
       "       [ 3.6460122 ],\n",
       "       [ 1.88594144],\n",
       "       [ 2.23166073],\n",
       "       [ 3.39869349],\n",
       "       [ 2.74769613],\n",
       "       [ 3.15941307],\n",
       "       [ 2.96863138],\n",
       "       [ 3.46296308],\n",
       "       [ 3.94525156],\n",
       "       [ 2.95639723],\n",
       "       [ 3.29765056],\n",
       "       [ 2.73895987],\n",
       "       [ 2.91604866],\n",
       "       [ 3.39135548],\n",
       "       [ 3.96395524],\n",
       "       [ 3.09353212],\n",
       "       [ 3.84638726],\n",
       "       [ 3.08603582],\n",
       "       [ 3.19824118],\n",
       "       [ 2.88823727],\n",
       "       [ 3.78593608]])"
      ]
     },
     "execution_count": 37,
     "metadata": {},
     "output_type": "execute_result"
    }
   ],
   "source": [
    " pca_values[:,0:1]"
   ]
  },
  {
   "cell_type": "code",
   "execution_count": 44,
   "id": "c92c9790",
   "metadata": {
    "ExecuteTime": {
     "end_time": "2021-11-24T11:00:29.714912Z",
     "start_time": "2021-11-24T11:00:29.679926Z"
    }
   },
   "outputs": [
    {
     "data": {
      "text/html": [
       "<div>\n",
       "<style scoped>\n",
       "    .dataframe tbody tr th:only-of-type {\n",
       "        vertical-align: middle;\n",
       "    }\n",
       "\n",
       "    .dataframe tbody tr th {\n",
       "        vertical-align: top;\n",
       "    }\n",
       "\n",
       "    .dataframe thead th {\n",
       "        text-align: right;\n",
       "    }\n",
       "</style>\n",
       "<table border=\"1\" class=\"dataframe\">\n",
       "  <thead>\n",
       "    <tr style=\"text-align: right;\">\n",
       "      <th></th>\n",
       "      <th>pc1</th>\n",
       "      <th>pc2</th>\n",
       "      <th>Customer_Segment</th>\n",
       "    </tr>\n",
       "  </thead>\n",
       "  <tbody>\n",
       "    <tr>\n",
       "      <th>0</th>\n",
       "      <td>-3.310490</td>\n",
       "      <td>-1.205312</td>\n",
       "      <td>1</td>\n",
       "    </tr>\n",
       "    <tr>\n",
       "      <th>1</th>\n",
       "      <td>-2.512443</td>\n",
       "      <td>0.667054</td>\n",
       "      <td>1</td>\n",
       "    </tr>\n",
       "    <tr>\n",
       "      <th>2</th>\n",
       "      <td>-2.742308</td>\n",
       "      <td>-1.498118</td>\n",
       "      <td>1</td>\n",
       "    </tr>\n",
       "    <tr>\n",
       "      <th>3</th>\n",
       "      <td>-3.635403</td>\n",
       "      <td>-2.539204</td>\n",
       "      <td>1</td>\n",
       "    </tr>\n",
       "    <tr>\n",
       "      <th>4</th>\n",
       "      <td>-1.359658</td>\n",
       "      <td>-1.336899</td>\n",
       "      <td>1</td>\n",
       "    </tr>\n",
       "    <tr>\n",
       "      <th>...</th>\n",
       "      <td>...</td>\n",
       "      <td>...</td>\n",
       "      <td>...</td>\n",
       "    </tr>\n",
       "    <tr>\n",
       "      <th>173</th>\n",
       "      <td>3.846387</td>\n",
       "      <td>-1.490067</td>\n",
       "      <td>3</td>\n",
       "    </tr>\n",
       "    <tr>\n",
       "      <th>174</th>\n",
       "      <td>3.086036</td>\n",
       "      <td>-1.433712</td>\n",
       "      <td>3</td>\n",
       "    </tr>\n",
       "    <tr>\n",
       "      <th>175</th>\n",
       "      <td>3.198241</td>\n",
       "      <td>-2.428557</td>\n",
       "      <td>3</td>\n",
       "    </tr>\n",
       "    <tr>\n",
       "      <th>176</th>\n",
       "      <td>2.888237</td>\n",
       "      <td>-2.091442</td>\n",
       "      <td>3</td>\n",
       "    </tr>\n",
       "    <tr>\n",
       "      <th>177</th>\n",
       "      <td>3.785936</td>\n",
       "      <td>-2.137855</td>\n",
       "      <td>3</td>\n",
       "    </tr>\n",
       "  </tbody>\n",
       "</table>\n",
       "<p>178 rows × 3 columns</p>\n",
       "</div>"
      ],
      "text/plain": [
       "          pc1       pc2  Customer_Segment\n",
       "0   -3.310490 -1.205312                 1\n",
       "1   -2.512443  0.667054                 1\n",
       "2   -2.742308 -1.498118                 1\n",
       "3   -3.635403 -2.539204                 1\n",
       "4   -1.359658 -1.336899                 1\n",
       "..        ...       ...               ...\n",
       "173  3.846387 -1.490067                 3\n",
       "174  3.086036 -1.433712                 3\n",
       "175  3.198241 -2.428557                 3\n",
       "176  2.888237 -2.091442                 3\n",
       "177  3.785936 -2.137855                 3\n",
       "\n",
       "[178 rows x 3 columns]"
      ]
     },
     "execution_count": 44,
     "metadata": {},
     "output_type": "execute_result"
    }
   ],
   "source": [
    "finalDf = pd.concat([pd.DataFrame(pca_values[:,0:2],columns=['pc1','pc2']), wine[['Customer_Segment']]], axis = 1)\n",
    "finalDf"
   ]
  },
  {
   "cell_type": "code",
   "execution_count": 45,
   "id": "f81e95b8",
   "metadata": {
    "ExecuteTime": {
     "end_time": "2021-11-24T11:00:57.618550Z",
     "start_time": "2021-11-24T11:00:57.596563Z"
    }
   },
   "outputs": [],
   "source": [
    "import matplotlib.pyplot as plt\n",
    "plt.style.use('classic')"
   ]
  },
  {
   "cell_type": "code",
   "execution_count": 48,
   "id": "5b5174fa",
   "metadata": {
    "ExecuteTime": {
     "end_time": "2021-11-24T11:03:54.235684Z",
     "start_time": "2021-11-24T11:03:53.394070Z"
    }
   },
   "outputs": [
    {
     "data": {
      "text/plain": [
       "<AxesSubplot:xlabel='pc1', ylabel='pc2'>"
      ]
     },
     "execution_count": 48,
     "metadata": {},
     "output_type": "execute_result"
    },
    {
     "data": {
      "image/png": "[encoded data removed]",
      "text/plain": [
       "<Figure size 640x480 with 1 Axes>"
      ]
     },
     "metadata": {},
     "output_type": "display_data"
    }
   ],
   "source": [
    "import seaborn as sns\n",
    "sns.scatterplot(data=finalDf,x='pc1',y='pc2',hue='Customer_Segment',s = 100)  "
   ]
  },
  {
   "cell_type": "code",
   "execution_count": 49,
   "id": "33cd5e79",
   "metadata": {
    "ExecuteTime": {
     "end_time": "2021-11-24T11:07:33.494035Z",
     "start_time": "2021-11-24T11:07:30.784899Z"
    }
   },
   "outputs": [
    {
     "data": {
      "image/png": "[encoded data removed]",
      "text/plain": [
       "<Figure size 640x480 with 1 Axes>"
      ]
     },
     "metadata": {},
     "output_type": "display_data"
    }
   ],
   "source": [
    "p1 = sns.scatterplot(data=finalDf,x='pc1',y='pc2',s = 100)  \n",
    "for line in range(0,finalDf.shape[0]):\n",
    "     p1.text(finalDf.pc1[line], finalDf.pc2[line], finalDf.Customer_Segment[line], horizontalalignment='left', size='medium')"
   ]
  },
  {
   "cell_type": "code",
   "execution_count": 51,
   "id": "e51c4061",
   "metadata": {
    "ExecuteTime": {
     "end_time": "2021-11-24T11:13:26.106852Z",
     "start_time": "2021-11-24T11:13:26.029875Z"
    }
   },
   "outputs": [
    {
     "data": {
      "text/html": [
       "<div>\n",
       "<style scoped>\n",
       "    .dataframe tbody tr th:only-of-type {\n",
       "        vertical-align: middle;\n",
       "    }\n",
       "\n",
       "    .dataframe tbody tr th {\n",
       "        vertical-align: top;\n",
       "    }\n",
       "\n",
       "    .dataframe thead th {\n",
       "        text-align: right;\n",
       "    }\n",
       "</style>\n",
       "<table border=\"1\" class=\"dataframe\">\n",
       "  <thead>\n",
       "    <tr style=\"text-align: right;\">\n",
       "      <th></th>\n",
       "      <th>Alcohol</th>\n",
       "      <th>Malic_Acid</th>\n",
       "      <th>Ash</th>\n",
       "      <th>Ash_Alcanity</th>\n",
       "      <th>Magnesium</th>\n",
       "      <th>Total_Phenols</th>\n",
       "      <th>Flavanoids</th>\n",
       "      <th>Nonflavanoid_Phenols</th>\n",
       "      <th>Proanthocyanins</th>\n",
       "      <th>Color_Intensity</th>\n",
       "      <th>Hue</th>\n",
       "      <th>OD280</th>\n",
       "      <th>Proline</th>\n",
       "      <th>Customer_Segment</th>\n",
       "    </tr>\n",
       "  </thead>\n",
       "  <tbody>\n",
       "    <tr>\n",
       "      <th>0</th>\n",
       "      <td>14.23</td>\n",
       "      <td>1.71</td>\n",
       "      <td>2.43</td>\n",
       "      <td>15.6</td>\n",
       "      <td>127</td>\n",
       "      <td>2.80</td>\n",
       "      <td>3.06</td>\n",
       "      <td>0.28</td>\n",
       "      <td>2.29</td>\n",
       "      <td>5.64</td>\n",
       "      <td>1.04</td>\n",
       "      <td>3.92</td>\n",
       "      <td>1065</td>\n",
       "      <td>1</td>\n",
       "    </tr>\n",
       "    <tr>\n",
       "      <th>1</th>\n",
       "      <td>13.20</td>\n",
       "      <td>1.78</td>\n",
       "      <td>2.14</td>\n",
       "      <td>11.2</td>\n",
       "      <td>100</td>\n",
       "      <td>2.65</td>\n",
       "      <td>2.76</td>\n",
       "      <td>0.26</td>\n",
       "      <td>1.28</td>\n",
       "      <td>4.38</td>\n",
       "      <td>1.05</td>\n",
       "      <td>3.40</td>\n",
       "      <td>1050</td>\n",
       "      <td>1</td>\n",
       "    </tr>\n",
       "    <tr>\n",
       "      <th>2</th>\n",
       "      <td>13.16</td>\n",
       "      <td>2.36</td>\n",
       "      <td>2.67</td>\n",
       "      <td>18.6</td>\n",
       "      <td>101</td>\n",
       "      <td>2.80</td>\n",
       "      <td>3.24</td>\n",
       "      <td>0.30</td>\n",
       "      <td>2.81</td>\n",
       "      <td>5.68</td>\n",
       "      <td>1.03</td>\n",
       "      <td>3.17</td>\n",
       "      <td>1185</td>\n",
       "      <td>1</td>\n",
       "    </tr>\n",
       "    <tr>\n",
       "      <th>3</th>\n",
       "      <td>14.37</td>\n",
       "      <td>1.95</td>\n",
       "      <td>2.50</td>\n",
       "      <td>16.8</td>\n",
       "      <td>113</td>\n",
       "      <td>3.85</td>\n",
       "      <td>3.49</td>\n",
       "      <td>0.24</td>\n",
       "      <td>2.18</td>\n",
       "      <td>7.80</td>\n",
       "      <td>0.86</td>\n",
       "      <td>3.45</td>\n",
       "      <td>1480</td>\n",
       "      <td>1</td>\n",
       "    </tr>\n",
       "    <tr>\n",
       "      <th>4</th>\n",
       "      <td>13.24</td>\n",
       "      <td>2.59</td>\n",
       "      <td>2.87</td>\n",
       "      <td>21.0</td>\n",
       "      <td>118</td>\n",
       "      <td>2.80</td>\n",
       "      <td>2.69</td>\n",
       "      <td>0.39</td>\n",
       "      <td>1.82</td>\n",
       "      <td>4.32</td>\n",
       "      <td>1.04</td>\n",
       "      <td>2.93</td>\n",
       "      <td>735</td>\n",
       "      <td>1</td>\n",
       "    </tr>\n",
       "  </tbody>\n",
       "</table>\n",
       "</div>"
      ],
      "text/plain": [
       "   Alcohol  Malic_Acid   Ash  Ash_Alcanity  Magnesium  Total_Phenols  \\\n",
       "0    14.23        1.71  2.43          15.6        127           2.80   \n",
       "1    13.20        1.78  2.14          11.2        100           2.65   \n",
       "2    13.16        2.36  2.67          18.6        101           2.80   \n",
       "3    14.37        1.95  2.50          16.8        113           3.85   \n",
       "4    13.24        2.59  2.87          21.0        118           2.80   \n",
       "\n",
       "   Flavanoids  Nonflavanoid_Phenols  Proanthocyanins  Color_Intensity   Hue  \\\n",
       "0        3.06                  0.28             2.29             5.64  1.04   \n",
       "1        2.76                  0.26             1.28             4.38  1.05   \n",
       "2        3.24                  0.30             2.81             5.68  1.03   \n",
       "3        3.49                  0.24             2.18             7.80  0.86   \n",
       "4        2.69                  0.39             1.82             4.32  1.04   \n",
       "\n",
       "   OD280  Proline  Customer_Segment  \n",
       "0   3.92     1065                 1  \n",
       "1   3.40     1050                 1  \n",
       "2   3.17     1185                 1  \n",
       "3   3.45     1480                 1  \n",
       "4   2.93      735                 1  "
      ]
     },
     "execution_count": 51,
     "metadata": {},
     "output_type": "execute_result"
    }
   ],
   "source": [
    "import pandas as pd\n",
    "import matplotlib.pyplot as plt\n",
    "import numpy as np\n",
    "\n",
    "df = pd.read_csv('Wine.csv')\n",
    "df\n",
    "X = df.iloc[:, :13].values\n",
    "y = df.iloc[:, 13].values\n",
    "\n",
    "df.head()"
   ]
  },
  {
   "cell_type": "code",
   "execution_count": 52,
   "id": "3faf63cd",
   "metadata": {
    "ExecuteTime": {
     "end_time": "2021-11-24T11:13:47.580062Z",
     "start_time": "2021-11-24T11:13:47.564071Z"
    }
   },
   "outputs": [],
   "source": [
    "from sklearn.model_selection import train_test_split\n",
    "X_train, X_test, y_train, y_test = train_test_split(X, y, test_size=0.25)"
   ]
  },
  {
   "cell_type": "code",
   "execution_count": 53,
   "id": "76ed3ff0",
   "metadata": {
    "ExecuteTime": {
     "end_time": "2021-11-24T11:14:03.156589Z",
     "start_time": "2021-11-24T11:14:03.137599Z"
    }
   },
   "outputs": [],
   "source": [
    "from sklearn.preprocessing import StandardScaler\n",
    "X_sca = StandardScaler()\n",
    "X_train = X_sca.fit_transform(X_train)\n",
    "X_test = X_sca.transform(X_test)"
   ]
  },
  {
   "cell_type": "code",
   "execution_count": 54,
   "id": "2d92414a",
   "metadata": {
    "ExecuteTime": {
     "end_time": "2021-11-24T11:14:24.897050Z",
     "start_time": "2021-11-24T11:14:24.872064Z"
    }
   },
   "outputs": [
    {
     "name": "stdout",
     "output_type": "stream",
     "text": [
      "[0.36320243 0.18308508 0.11431932 0.07379582 0.0672079  0.04767972\n",
      " 0.04126891 0.02971002 0.02330387 0.01895605 0.0163676  0.01269982\n",
      " 0.00840346]\n"
     ]
    }
   ],
   "source": [
    "from sklearn.decomposition import PCA\n",
    "pca = PCA(n_components=None)\n",
    "pca.fit_transform(X_train)\n",
    "explained_variance_ratio = pca.explained_variance_ratio_\n",
    "print (explained_variance_ratio)"
   ]
  },
  {
   "cell_type": "code",
   "execution_count": 55,
   "id": "75a3fd20",
   "metadata": {
    "ExecuteTime": {
     "end_time": "2021-11-24T11:14:53.372127Z",
     "start_time": "2021-11-24T11:14:53.361138Z"
    }
   },
   "outputs": [
    {
     "data": {
      "text/plain": [
       "array([ 36.32,  54.63,  66.06,  73.44,  80.16,  84.93,  89.06,  92.03,\n",
       "        94.36,  96.26,  97.9 ,  99.17, 100.01])"
      ]
     },
     "execution_count": 55,
     "metadata": {},
     "output_type": "execute_result"
    }
   ],
   "source": [
    "var1 = np.cumsum(np.round(explained_variance_ratio,decimals = 4)*100)\n",
    "var1"
   ]
  },
  {
   "cell_type": "code",
   "execution_count": 57,
   "id": "51d53c93",
   "metadata": {
    "ExecuteTime": {
     "end_time": "2021-11-24T11:15:30.032576Z",
     "start_time": "2021-11-24T11:15:29.707208Z"
    }
   },
   "outputs": [
    {
     "data": {
      "text/plain": [
       "[<matplotlib.lines.Line2D at 0x278e83d4ac0>]"
      ]
     },
     "execution_count": 57,
     "metadata": {},
     "output_type": "execute_result"
    },
    {
     "data": {
      "image/png": "[encoded data removed]",
      "text/plain": [
       "<Figure size 640x480 with 1 Axes>"
      ]
     },
     "metadata": {},
     "output_type": "display_data"
    }
   ],
   "source": [
    "plt.plot(var1,color=\"red\")"
   ]
  },
  {
   "cell_type": "code",
   "execution_count": 59,
   "id": "6e04bf01",
   "metadata": {
    "ExecuteTime": {
     "end_time": "2021-11-24T11:15:50.245937Z",
     "start_time": "2021-11-24T11:15:50.228945Z"
    }
   },
   "outputs": [
    {
     "name": "stdout",
     "output_type": "stream",
     "text": [
      "[0.66485581 0.33514419]\n"
     ]
    }
   ],
   "source": [
    "pca = PCA(n_components=2)\n",
    "X_train = pca.fit_transform(X_train)\n",
    "X_test = pca.transform(X_test)\n",
    "explained_variance = pca.explained_variance_ratio_\n",
    "print (explained_variance)"
   ]
  },
  {
   "cell_type": "code",
   "execution_count": 60,
   "id": "2a1c2759",
   "metadata": {
    "ExecuteTime": {
     "end_time": "2021-11-24T11:16:03.669515Z",
     "start_time": "2021-11-24T11:16:03.293028Z"
    }
   },
   "outputs": [
    {
     "data": {
      "image/png": "[encoded data removed]",
      "text/plain": [
       "<Figure size 640x480 with 1 Axes>"
      ]
     },
     "metadata": {},
     "output_type": "display_data"
    }
   ],
   "source": [
    "plt.scatter([x[0] for x in X_train], [x[1] for x in X_train])\n",
    "plt.show()"
   ]
  },
  {
   "cell_type": "code",
   "execution_count": 62,
   "id": "7eb40446",
   "metadata": {
    "ExecuteTime": {
     "end_time": "2021-11-24T11:16:48.563403Z",
     "start_time": "2021-11-24T11:16:48.526446Z"
    }
   },
   "outputs": [
    {
     "data": {
      "text/plain": [
       "LogisticRegression(random_state=0)"
      ]
     },
     "execution_count": 62,
     "metadata": {},
     "output_type": "execute_result"
    }
   ],
   "source": [
    "from sklearn.linear_model import LogisticRegression\n",
    "clf = LogisticRegression(random_state=0)\n",
    "clf.fit(X_train, y_train)"
   ]
  },
  {
   "cell_type": "code",
   "execution_count": 63,
   "id": "b574cb13",
   "metadata": {
    "ExecuteTime": {
     "end_time": "2021-11-24T11:17:01.618083Z",
     "start_time": "2021-11-24T11:17:01.607068Z"
    }
   },
   "outputs": [],
   "source": [
    "y_pred = clf.predict(X_test)"
   ]
  },
  {
   "cell_type": "code",
   "execution_count": 64,
   "id": "e20295a2",
   "metadata": {
    "ExecuteTime": {
     "end_time": "2021-11-24T11:17:29.671437Z",
     "start_time": "2021-11-24T11:17:29.647451Z"
    }
   },
   "outputs": [
    {
     "data": {
      "text/plain": [
       "array([[15,  0,  0],\n",
       "       [ 0, 16,  0],\n",
       "       [ 0,  1, 13]], dtype=int64)"
      ]
     },
     "execution_count": 64,
     "metadata": {},
     "output_type": "execute_result"
    }
   ],
   "source": [
    "from sklearn.metrics import confusion_matrix\n",
    "cm = confusion_matrix(y_test, y_pred)\n",
    "cm"
   ]
  },
  {
   "cell_type": "code",
   "execution_count": 65,
   "id": "a5513886",
   "metadata": {
    "ExecuteTime": {
     "end_time": "2021-11-24T11:17:43.872224Z",
     "start_time": "2021-11-24T11:17:43.861229Z"
    }
   },
   "outputs": [
    {
     "data": {
      "text/plain": [
       "0.9777777777777777"
      ]
     },
     "execution_count": 65,
     "metadata": {},
     "output_type": "execute_result"
    }
   ],
   "source": [
    "clf.score(X_test, y_test)"
   ]
  }
 ],
 "metadata": {
  "kernelspec": {
   "display_name": "Python 3",
   "language": "python",
   "name": "python3"
  },
  "language_info": {
   "codemirror_mode": {
    "name": "ipython",
    "version": 3
   },
   "file_extension": ".py",
   "mimetype": "text/x-python",
   "name": "python",
   "nbconvert_exporter": "python",
   "pygments_lexer": "ipython3",
   "version": "3.8.8"
  }
 },
 "nbformat": 4,
 "nbformat_minor": 5
}
